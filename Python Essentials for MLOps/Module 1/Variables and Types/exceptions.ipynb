{
 "cells": [
  {
   "attachments": {},
   "cell_type": "markdown",
   "metadata": {},
   "source": [
    "## Exceptions in Python\n",
    "When you encounter exceptions in Python you might be tempted to catch them to ignore. This is almost always not a sounds strategy. The rule of thumb is to catch exceptions that you are going to handle. If you can't handle an exception it is a better idea to let that exception get raised and break the program.\n",
    "\n",
    "This notebook will cover how to catch and handle exceptions."
   ]
  },
  {
   "attachments": {},
   "cell_type": "markdown",
   "metadata": {},
   "source": [
    "### How Exceptions happen\n",
    "\n",
    "They are created with invalid operations that Python itself raises, or they are generated from your own code."
   ]
  },
  {
   "cell_type": "code",
   "execution_count": 1,
   "metadata": {},
   "outputs": [
    {
     "ename": "ZeroDivisionError",
     "evalue": "division by zero",
     "output_type": "error",
     "traceback": [
      "\u001b[0;31m---------------------------------------------------------------------------\u001b[0m",
      "\u001b[0;31mZeroDivisionError\u001b[0m                         Traceback (most recent call last)",
      "\u001b[1;32m/Users/taoheedking/Documents/ML Ops Specialization/Python Essentials for MLOps/Module 1/Variables and Types/exceptions.ipynb Cell 3\u001b[0m in \u001b[0;36m<cell line: 2>\u001b[0;34m()\u001b[0m\n\u001b[1;32m      <a href='vscode-notebook-cell:/Users/taoheedking/Documents/ML%20Ops%20Specialization/Python%20Essentials%20for%20MLOps/Module%201/Variables%20and%20Types/exceptions.ipynb#W2sZmlsZQ%3D%3D?line=0'>1</a>\u001b[0m \u001b[39m# exception from Python itself\u001b[39;00m\n\u001b[0;32m----> <a href='vscode-notebook-cell:/Users/taoheedking/Documents/ML%20Ops%20Specialization/Python%20Essentials%20for%20MLOps/Module%201/Variables%20and%20Types/exceptions.ipynb#W2sZmlsZQ%3D%3D?line=1'>2</a>\u001b[0m \u001b[39m14\u001b[39;49m \u001b[39m/\u001b[39;49m \u001b[39m0\u001b[39;49m\n",
      "\u001b[0;31mZeroDivisionError\u001b[0m: division by zero"
     ]
    }
   ],
   "source": [
    "# exception from Python itself\n",
    "14 / 0"
   ]
  },
  {
   "cell_type": "code",
   "execution_count": 9,
   "metadata": {},
   "outputs": [
    {
     "ename": "RuntimeError",
     "evalue": "this is a problem!",
     "output_type": "error",
     "traceback": [
      "\u001b[0;31m---------------------------------------------------------------------------\u001b[0m",
      "\u001b[0;31mRuntimeError\u001b[0m                              Traceback (most recent call last)",
      "\u001b[1;32m/Users/taoheedking/Documents/ML Ops Specialization/Python Essentials for MLOps/Module 1/Variables and Types/exceptions.ipynb Cell 4\u001b[0m in \u001b[0;36m<cell line: 2>\u001b[0;34m()\u001b[0m\n\u001b[1;32m      <a href='vscode-notebook-cell:/Users/taoheedking/Documents/ML%20Ops%20Specialization/Python%20Essentials%20for%20MLOps/Module%201/Variables%20and%20Types/exceptions.ipynb#W3sZmlsZQ%3D%3D?line=0'>1</a>\u001b[0m \u001b[39m# generating an exception with your own code\u001b[39;00m\n\u001b[0;32m----> <a href='vscode-notebook-cell:/Users/taoheedking/Documents/ML%20Ops%20Specialization/Python%20Essentials%20for%20MLOps/Module%201/Variables%20and%20Types/exceptions.ipynb#W3sZmlsZQ%3D%3D?line=1'>2</a>\u001b[0m \u001b[39mraise\u001b[39;00m \u001b[39mRuntimeError\u001b[39;00m(\u001b[39m\"\u001b[39m\u001b[39mthis is a problem!\u001b[39m\u001b[39m\"\u001b[39m)\n",
      "\u001b[0;31mRuntimeError\u001b[0m: this is a problem!"
     ]
    }
   ],
   "source": [
    "# generating an exception with your own code\n",
    "raise RuntimeError(\"this is a problem!\")"
   ]
  },
  {
   "attachments": {},
   "cell_type": "markdown",
   "metadata": {},
   "source": [
    "### Catching an Exception\n",
    "\n",
    "You'll need the `try` and `except` keywords to catch exceptions. Rule of thumb is to always catch the exception or the exceptions (plural!) that you need. Don't leave \"bare\" catching (shown later in this notebook)."
   ]
  },
  {
   "cell_type": "code",
   "execution_count": 10,
   "metadata": {},
   "outputs": [
    {
     "name": "stdout",
     "output_type": "stream",
     "text": [
      "7.0\n"
     ]
    }
   ],
   "source": [
    "try:\n",
    "    # some intense operation that causes an error\n",
    "    result = 14 / 0 \n",
    "except ZeroDivisionError:\n",
    "    # do some other intense operation\n",
    "    result = 14 / 2\n",
    "\n",
    "print(result)"
   ]
  },
  {
   "cell_type": "code",
   "execution_count": 11,
   "metadata": {},
   "outputs": [
    {
     "name": "stdout",
     "output_type": "stream",
     "text": [
      "14\n"
     ]
    }
   ],
   "source": [
    "try:\n",
    "    # an operation that causes a type error\n",
    "    answer = 7 + \"7\"\n",
    "except TypeError:\n",
    "    answer = 7 + int(\"7\")\n",
    "\n",
    "print(answer)"
   ]
  },
  {
   "cell_type": "code",
   "execution_count": 12,
   "metadata": {},
   "outputs": [
    {
     "name": "stdout",
     "output_type": "stream",
     "text": [
      "7.0\n"
     ]
    }
   ],
   "source": [
    "# don't get tempted to catch all exceptions \n",
    "try:\n",
    "    # some intense operation that causes an error\n",
    "    result = 14 / 0\n",
    "    raise RuntimeError(\"error!\") \n",
    "# general exception catching\n",
    "except Exception:\n",
    "    # do some other intense operation\n",
    "    result = 14 / 2\n",
    "\n",
    "print(result)"
   ]
  },
  {
   "attachments": {},
   "cell_type": "markdown",
   "metadata": {},
   "source": [
    "### Catching multiple Exceptions\n",
    "\n",
    "You can group many exceptions when catching them as well as doing an assignment if needed"
   ]
  },
  {
   "cell_type": "code",
   "execution_count": 15,
   "metadata": {},
   "outputs": [
    {
     "name": "stdout",
     "output_type": "stream",
     "text": [
      "8.0\n"
     ]
    }
   ],
   "source": [
    "try:\n",
    "    # some intense operation that causes an error\n",
    "    result = 16 / 2 \n",
    "    result + \"100\"\n",
    "except (ZeroDivisionError, TypeError):\n",
    "    # do some other intense operation\n",
    "    result = 16 / 2\n",
    "\n",
    "print(result)"
   ]
  },
  {
   "cell_type": "code",
   "execution_count": 16,
   "metadata": {},
   "outputs": [
    {
     "name": "stdout",
     "output_type": "stream",
     "text": [
      "got an error --> division by zero\n",
      "7.0\n"
     ]
    }
   ],
   "source": [
    "# assign the resulting exception to a variable\n",
    "try:\n",
    "    # some intense operation that causes an error\n",
    "    result = 14 / 0 \n",
    "# assign the exception to a variable\n",
    "except ZeroDivisionError as error:\n",
    "    # do some other intense operation\n",
    "    print(f\"got an error --> {error}\")\n",
    "    result = 14 / 2\n",
    "\n",
    "print(result)"
   ]
  }
 ],
 "metadata": {
  "kernelspec": {
   "display_name": "Python 3.8.9 64-bit",
   "language": "python",
   "name": "python3"
  },
  "language_info": {
   "codemirror_mode": {
    "name": "ipython",
    "version": 3
   },
   "file_extension": ".py",
   "mimetype": "text/x-python",
   "name": "python",
   "nbconvert_exporter": "python",
   "pygments_lexer": "ipython3",
   "version": "3.10.6"
  },
  "orig_nbformat": 4,
  "vscode": {
   "interpreter": {
    "hash": "31f2aee4e71d21fbe5cf8b01ff0e069b9275f58929596ceb00d14d90e3e16cd6"
   }
  }
 },
 "nbformat": 4,
 "nbformat_minor": 2
}
