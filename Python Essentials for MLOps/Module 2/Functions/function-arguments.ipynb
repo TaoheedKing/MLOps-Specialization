{
 "cells": [
  {
   "attachments": {},
   "cell_type": "markdown",
   "metadata": {},
   "source": [
    "## Function arguments"
   ]
  },
  {
   "cell_type": "code",
   "execution_count": 18,
   "metadata": {},
   "outputs": [
    {
     "data": {
      "text/plain": [
       "16"
      ]
     },
     "execution_count": 18,
     "metadata": {},
     "output_type": "execute_result"
    }
   ],
   "source": [
    "# a function definition with required arguments\n",
    "\n",
    "def squared(number):\n",
    "    return number**2\n",
    "\n",
    "squared(4)"
   ]
  },
  {
   "cell_type": "code",
   "execution_count": 19,
   "metadata": {},
   "outputs": [
    {
     "data": {
      "text/plain": [
       "3.0"
      ]
     },
     "execution_count": 19,
     "metadata": {},
     "output_type": "execute_result"
    }
   ],
   "source": [
    "# a function definition with required arguments\n",
    "def thirds(number):\n",
    "    return number/3\n",
    "\n",
    "thirds(9)"
   ]
  },
  {
   "cell_type": "code",
   "execution_count": 20,
   "metadata": {},
   "outputs": [
    {
     "ename": "TypeError",
     "evalue": "squared() missing 1 required positional argument: 'number'",
     "output_type": "error",
     "traceback": [
      "\u001b[0;31m---------------------------------------------------------------------------\u001b[0m",
      "\u001b[0;31mTypeError\u001b[0m                                 Traceback (most recent call last)",
      "\u001b[1;32m/Users/taoheedking/Documents/ML Ops Specialization/Python Essentials for MLOps/Module 2/Functions/function-arguments.ipynb Cell 4\u001b[0m in \u001b[0;36m<cell line: 3>\u001b[0;34m()\u001b[0m\n\u001b[1;32m      <a href='vscode-notebook-cell:/Users/taoheedking/Documents/ML%20Ops%20Specialization/Python%20Essentials%20for%20MLOps/Module%202/Functions/function-arguments.ipynb#W2sZmlsZQ%3D%3D?line=0'>1</a>\u001b[0m \u001b[39m# cannot call a function without arguments when required\u001b[39;00m\n\u001b[0;32m----> <a href='vscode-notebook-cell:/Users/taoheedking/Documents/ML%20Ops%20Specialization/Python%20Essentials%20for%20MLOps/Module%202/Functions/function-arguments.ipynb#W2sZmlsZQ%3D%3D?line=2'>3</a>\u001b[0m squared()\n",
      "\u001b[0;31mTypeError\u001b[0m: squared() missing 1 required positional argument: 'number'"
     ]
    }
   ],
   "source": [
    "# cannot call a function without arguments when required\n",
    "\n",
    "squared()"
   ]
  },
  {
   "cell_type": "code",
   "execution_count": null,
   "metadata": {},
   "outputs": [
    {
     "data": {
      "text/plain": [
       "0"
      ]
     },
     "execution_count": 6,
     "metadata": {},
     "output_type": "execute_result"
    }
   ],
   "source": [
    "# there are functions with optional arguments\n",
    "# this one will give you a 0, defaulting to no input\n",
    "int()\n"
   ]
  },
  {
   "cell_type": "code",
   "execution_count": null,
   "metadata": {},
   "outputs": [
    {
     "data": {
      "text/plain": [
       "10"
      ]
     },
     "execution_count": 7,
     "metadata": {},
     "output_type": "execute_result"
    }
   ],
   "source": [
    "# but you can use an argument too, making it flexible\n",
    "int(\"10\")"
   ]
  },
  {
   "cell_type": "code",
   "execution_count": null,
   "metadata": {},
   "outputs": [
    {
     "data": {
      "text/plain": [
       "3"
      ]
     },
     "execution_count": 11,
     "metadata": {},
     "output_type": "execute_result"
    }
   ],
   "source": [
    "int(thirds(9))"
   ]
  },
  {
   "cell_type": "code",
   "execution_count": null,
   "metadata": {},
   "outputs": [],
   "source": [
    "# an optional argument uses a \"keyword argument\"\n",
    "\n",
    "def greetings(full_name=\"John Doe\"):\n",
    "    print(\"Greetings \", full_name)"
   ]
  },
  {
   "cell_type": "code",
   "execution_count": 21,
   "metadata": {},
   "outputs": [],
   "source": [
    "def welcome(full_name=\"Taoheed King\"):\n",
    "    print(\"Welcome \", full_name)"
   ]
  },
  {
   "cell_type": "code",
   "execution_count": 27,
   "metadata": {},
   "outputs": [
    {
     "name": "stdout",
     "output_type": "stream",
     "text": [
      "Greetings  John Doe\n",
      "Greetings  Superman!\n",
      "Welcome  Taoheed King\n",
      "Welcome  Jimmy Neutron!\n"
     ]
    }
   ],
   "source": [
    "# you can call the function with or without the argument because it has a default\n",
    "greetings()\n",
    "greetings(\"Superman!\")\n",
    "welcome()\n",
    "welcome(\"Jimmy Neutron!\")"
   ]
  },
  {
   "cell_type": "code",
   "execution_count": 28,
   "metadata": {},
   "outputs": [
    {
     "name": "stdout",
     "output_type": "stream",
     "text": [
      "Greetings Dr. Jenkins\n"
     ]
    }
   ],
   "source": [
    "# arguments always go before keyword arguments\n",
    "\n",
    "def formal_greeting(name, title=\"Dr.\"):\n",
    "    print(\"Greetings\", title, name)\n",
    "\n",
    "formal_greeting(\"Jenkins\")"
   ]
  },
  {
   "cell_type": "code",
   "execution_count": 29,
   "metadata": {},
   "outputs": [
    {
     "name": "stdout",
     "output_type": "stream",
     "text": [
      "Welcome Mr. Taoheed\n"
     ]
    }
   ],
   "source": [
    "def welcome_greeting(name, title=\"Mr.\"):\n",
    "    print(\"Welcome\", title, name)\n",
    "\n",
    "welcome_greeting(\"Taoheed\")"
   ]
  }
 ],
 "metadata": {
  "kernelspec": {
   "display_name": "Python 3.8.9 64-bit",
   "language": "python",
   "name": "python3"
  },
  "language_info": {
   "codemirror_mode": {
    "name": "ipython",
    "version": 3
   },
   "file_extension": ".py",
   "mimetype": "text/x-python",
   "name": "python",
   "nbconvert_exporter": "python",
   "pygments_lexer": "ipython3",
   "version": "3.10.6"
  },
  "orig_nbformat": 4,
  "vscode": {
   "interpreter": {
    "hash": "31f2aee4e71d21fbe5cf8b01ff0e069b9275f58929596ceb00d14d90e3e16cd6"
   }
  }
 },
 "nbformat": 4,
 "nbformat_minor": 2
}
