{
 "cells": [
  {
   "attachments": {},
   "cell_type": "markdown",
   "metadata": {},
   "source": [
    "## Variable arguments and keyword arguments \n",
    "\n",
    "These types of arguments are useful when you don't know how many you will receive. It is supported for both keyword arguments and regular arguments. "
   ]
  },
  {
   "attachments": {},
   "cell_type": "markdown",
   "metadata": {},
   "source": [
    "### Variable arguments\n",
    "Also called _var args_. Are arguments that do not have any defaults"
   ]
  },
  {
   "cell_type": "code",
   "execution_count": 3,
   "metadata": {},
   "outputs": [
    {
     "name": "stdout",
     "output_type": "stream",
     "text": [
      "Lucy\n",
      "Matt\n",
      "Bob\n"
     ]
    }
   ],
   "source": [
    "# this function can take 0 or more arguments\n",
    "\n",
    "def family_members(*args):\n",
    "    for name in args:\n",
    "        print(name)\n",
    "\n",
    "family_members(\"Lucy\", \"Matt\", \"Bob\")"
   ]
  },
  {
   "cell_type": "code",
   "execution_count": 1,
   "metadata": {},
   "outputs": [
    {
     "name": "stdout",
     "output_type": "stream",
     "text": [
      "Messi\n",
      "Ronaldo\n",
      "Neymar\n",
      "Mbappe\n"
     ]
    }
   ],
   "source": [
    "def soccer_players(*args):\n",
    "    for name in args:\n",
    "        print(name)\n",
    "\n",
    "soccer_players(\"Messi\", \"Ronaldo\", \"Neymar\", \"Mbappe\")"
   ]
  },
  {
   "cell_type": "code",
   "execution_count": 2,
   "metadata": {},
   "outputs": [
    {
     "ename": "NameError",
     "evalue": "name 'family_members' is not defined",
     "output_type": "error",
     "traceback": [
      "\u001b[0;31m---------------------------------------------------------------------------\u001b[0m",
      "\u001b[0;31mNameError\u001b[0m                                 Traceback (most recent call last)",
      "\u001b[1;32m/Users/taoheedking/Documents/ML Ops Specialization/Python Essentials for MLOps/Module 2/Functions/variable-arguments.ipynb Cell 5\u001b[0m in \u001b[0;36m<cell line: 2>\u001b[0;34m()\u001b[0m\n\u001b[1;32m      <a href='vscode-notebook-cell:/Users/taoheedking/Documents/ML%20Ops%20Specialization/Python%20Essentials%20for%20MLOps/Module%202/Functions/variable-arguments.ipynb#W3sZmlsZQ%3D%3D?line=0'>1</a>\u001b[0m \u001b[39m# it can also be called with no arguments at all making it flexible\u001b[39;00m\n\u001b[0;32m----> <a href='vscode-notebook-cell:/Users/taoheedking/Documents/ML%20Ops%20Specialization/Python%20Essentials%20for%20MLOps/Module%202/Functions/variable-arguments.ipynb#W3sZmlsZQ%3D%3D?line=1'>2</a>\u001b[0m family_members()\n",
      "\u001b[0;31mNameError\u001b[0m: name 'family_members' is not defined"
     ]
    }
   ],
   "source": [
    "# it can also be called with no arguments at all making it flexible\n",
    "family_members()"
   ]
  },
  {
   "cell_type": "code",
   "execution_count": null,
   "metadata": {},
   "outputs": [],
   "source": [
    "# there is no need to call it *args or *a (although common)\n",
    "\n",
    "def family_members(*names):\n",
    "    for name in names:\n",
    "        print(name)"
   ]
  },
  {
   "cell_type": "code",
   "execution_count": 4,
   "metadata": {},
   "outputs": [],
   "source": [
    "def soccer_players(*players):\n",
    "    for player in players:\n",
    "        print(player)"
   ]
  },
  {
   "attachments": {},
   "cell_type": "markdown",
   "metadata": {},
   "source": [
    "### Variable keyword arguments\n",
    "These are arguments that are mapped to a value (key and value, like a dictionary). \n",
    "The premise of how this works is the same as variable arguments, and the syntax is slightly different."
   ]
  },
  {
   "cell_type": "code",
   "execution_count": 5,
   "metadata": {},
   "outputs": [
    {
     "name": "stdout",
     "output_type": "stream",
     "text": [
      "speed --> slow\n",
      "active --> False\n",
      "weight --> 210\n"
     ]
    }
   ],
   "source": [
    "# define a function that takes 0 or more keyword arguments\n",
    "def stats(**kwargs):\n",
    "    # kwargs is now a dictionary\n",
    "    for key, value in kwargs.items():\n",
    "        print(key, \"-->\", value)\n",
    "\n",
    "stats(speed=\"slow\", active=False, weight=210)"
   ]
  },
  {
   "cell_type": "code",
   "execution_count": 23,
   "metadata": {},
   "outputs": [
    {
     "name": "stdout",
     "output_type": "stream",
     "text": [
      "fork --> metal\n",
      "spoon --> plastic\n",
      "knife --> metal\n"
     ]
    }
   ],
   "source": [
    "def utensils(**kwargs):\n",
    "    for key, value in kwargs.items():\n",
    "        print(key, \"-->\", value)\n",
    "\n",
    "utensils(fork=\"metal\", spoon=\"plastic\", knife=\"metal\")"
   ]
  },
  {
   "cell_type": "code",
   "execution_count": 24,
   "metadata": {},
   "outputs": [
    {
     "name": "stdout",
     "output_type": "stream",
     "text": [
      "Result is None\n"
     ]
    }
   ],
   "source": [
    "# because it's variable, it means that we can pass 0 items\n",
    "result = stats()\n",
    "print(\"Result is\", result)"
   ]
  },
  {
   "cell_type": "code",
   "execution_count": 27,
   "metadata": {},
   "outputs": [
    {
     "name": "stdout",
     "output_type": "stream",
     "text": [
      "Answer is None\n"
     ]
    }
   ],
   "source": [
    "answer = utensils()\n",
    "print(\"Answer is\", answer)"
   ]
  }
 ],
 "metadata": {
  "kernelspec": {
   "display_name": "Python 3.8.9 64-bit",
   "language": "python",
   "name": "python3"
  },
  "language_info": {
   "codemirror_mode": {
    "name": "ipython",
    "version": 3
   },
   "file_extension": ".py",
   "mimetype": "text/x-python",
   "name": "python",
   "nbconvert_exporter": "python",
   "pygments_lexer": "ipython3",
   "version": "3.10.6"
  },
  "orig_nbformat": 4,
  "vscode": {
   "interpreter": {
    "hash": "31f2aee4e71d21fbe5cf8b01ff0e069b9275f58929596ceb00d14d90e3e16cd6"
   }
  }
 },
 "nbformat": 4,
 "nbformat_minor": 2
}
