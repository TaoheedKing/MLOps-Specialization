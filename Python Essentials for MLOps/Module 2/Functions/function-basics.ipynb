{
 "cells": [
  {
   "attachments": {},
   "cell_type": "markdown",
   "metadata": {},
   "source": [
    "# Function Basics\n",
    "Go through some of the basics of working with functions including how to call other functions. \n",
    "Functions can take required arguments but also optional arguments. This notebook will help you understand the syntax of a function and the different arguments."
   ]
  },
  {
   "attachments": {},
   "cell_type": "markdown",
   "metadata": {},
   "source": [
    "## Structure and values"
   ]
  },
  {
   "cell_type": "code",
   "execution_count": 1,
   "metadata": {},
   "outputs": [],
   "source": [
    "# basic function syntax with no arguments\n",
    "\n",
    "def simple():\n",
    "    print(\"this is a function\")"
   ]
  },
  {
   "cell_type": "code",
   "execution_count": 2,
   "metadata": {},
   "outputs": [],
   "source": [
    "def intro():\n",
    "    print(\"This is the introduction to functions\")"
   ]
  },
  {
   "cell_type": "code",
   "execution_count": 3,
   "metadata": {},
   "outputs": [
    {
     "name": "stdout",
     "output_type": "stream",
     "text": [
      "this is a function\n"
     ]
    }
   ],
   "source": [
    "# the function can now be \"called\"\n",
    "simple()"
   ]
  },
  {
   "cell_type": "code",
   "execution_count": 4,
   "metadata": {},
   "outputs": [
    {
     "name": "stdout",
     "output_type": "stream",
     "text": [
      "This is the introduction to functions\n"
     ]
    }
   ],
   "source": [
    "intro()"
   ]
  },
  {
   "cell_type": "code",
   "execution_count": 5,
   "metadata": {},
   "outputs": [
    {
     "name": "stdout",
     "output_type": "stream",
     "text": [
      "this is a function\n",
      "The value of result is: None\n"
     ]
    }
   ],
   "source": [
    "# watch out for functions that don't return values\n",
    "\n",
    "result = simple()\n",
    "print(\"The value of result is:\", result)"
   ]
  },
  {
   "cell_type": "code",
   "execution_count": 7,
   "metadata": {},
   "outputs": [
    {
     "name": "stdout",
     "output_type": "stream",
     "text": [
      "This is the introduction to functions\n",
      "The value of answer is: None\n"
     ]
    }
   ],
   "source": [
    "answer = intro()\n",
    "print(\"The value of answer is:\", answer)"
   ]
  },
  {
   "cell_type": "code",
   "execution_count": 8,
   "metadata": {},
   "outputs": [
    {
     "name": "stdout",
     "output_type": "stream",
     "text": [
      "The result value is: This is a return value!\n"
     ]
    }
   ],
   "source": [
    "# if you need a value from a function, the function must return\n",
    "\n",
    "def produce():\n",
    "    return \"This is a return value!\"\n",
    "\n",
    "# calling it allows capturing the resulting product\n",
    "result = produce()\n",
    "print(\"The result value is:\", result)"
   ]
  },
  {
   "cell_type": "code",
   "execution_count": 9,
   "metadata": {},
   "outputs": [
    {
     "name": "stdout",
     "output_type": "stream",
     "text": [
      "The answer value is: This is Task 1 for a return function\n"
     ]
    }
   ],
   "source": [
    "def introduction():\n",
    "    return \"This is Task 1 for a return function\"\n",
    "\n",
    "answer = introduction()\n",
    "print(\"The answer value is:\", answer)"
   ]
  }
 ],
 "metadata": {
  "kernelspec": {
   "display_name": "Python 3.8.9 64-bit",
   "language": "python",
   "name": "python3"
  },
  "language_info": {
   "codemirror_mode": {
    "name": "ipython",
    "version": 3
   },
   "file_extension": ".py",
   "mimetype": "text/x-python",
   "name": "python",
   "nbconvert_exporter": "python",
   "pygments_lexer": "ipython3",
   "version": "3.10.6"
  },
  "orig_nbformat": 4,
  "vscode": {
   "interpreter": {
    "hash": "31f2aee4e71d21fbe5cf8b01ff0e069b9275f58929596ceb00d14d90e3e16cd6"
   }
  }
 },
 "nbformat": 4,
 "nbformat_minor": 2
}
