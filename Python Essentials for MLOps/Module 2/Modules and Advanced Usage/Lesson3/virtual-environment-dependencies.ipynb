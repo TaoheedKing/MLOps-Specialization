{
 "cells": [
  {
   "cell_type": "code",
   "execution_count": 1,
   "metadata": {},
   "outputs": [
    {
     "ename": "SyntaxError",
     "evalue": "invalid syntax (3192053654.py, line 4)",
     "output_type": "error",
     "traceback": [
      "\u001b[0;36m  Input \u001b[0;32mIn [1]\u001b[0;36m\u001b[0m\n\u001b[0;31m    pip3 install virtualenv\u001b[0m\n\u001b[0m         ^\u001b[0m\n\u001b[0;31mSyntaxError\u001b[0m\u001b[0;31m:\u001b[0m invalid syntax\n"
     ]
    }
   ],
   "source": [
    "# This module is used to install the dependencies for the virtual environment\n",
    "# step 1: install virtual environment\n",
    "''' this part was not covered in the video but from experience i had to install virtual environment using pip3'''\n",
    "pip3 install virtualenv"
   ]
  },
  {
   "cell_type": "code",
   "execution_count": null,
   "metadata": {},
   "outputs": [],
   "source": [
    "# step 2: create virtual environment\n",
    "'''\n",
    "the module is the first venv called\n",
    "the second venv is the name of the virtual environment which can be changed to any name \n",
    "once you run this command, a folder called venv will be created but it is not activated yet. meaning that it is not running yet\n",
    "'''\n",
    "# might need to do ls first to see the folders in the directory\n",
    "# ls\n",
    "python3 -m venv venv\n",
    "\n",
    "''' Note: The difference between python3 and pip3 is that python3 is used to run python scripts whereas pip3 is used to install dependencies.'''"
   ]
  },
  {
   "cell_type": "code",
   "execution_count": null,
   "metadata": {},
   "outputs": [],
   "source": [
    "# step 3: activate virtual environment\n",
    "source venv/bin/activate\n",
    "\n",
    "''' Note: to check where the python is running from. you should get a directory that is not the system directory but the virtual environment directory'''\n",
    "which python"
   ]
  },
  {
   "cell_type": "code",
   "execution_count": null,
   "metadata": {},
   "outputs": [],
   "source": [
    "# step 4: install dependencies\n",
    "\n",
    "''' Note: if you were to install a dependency, it will be installed in the virtual environment directory and not the system directory'''\n",
    "pip3 install numpy # this will install numpy in the virtual environment directory and not the system directory\n",
    "pip3 install -r requirements.txt # this will install all the dependencies specified by me in the requirements.txt file"
   ]
  },
  {
   "cell_type": "code",
   "execution_count": null,
   "metadata": {},
   "outputs": [],
   "source": [
    "# step 5: deactivate virtual environment\n",
    "deactivate\n",
    "''' After deactivating if you check where python is running from, it would be your system python and not the virtual environment python'''"
   ]
  }
 ],
 "metadata": {
  "kernelspec": {
   "display_name": "Python 3",
   "language": "python",
   "name": "python3"
  },
  "language_info": {
   "codemirror_mode": {
    "name": "ipython",
    "version": 3
   },
   "file_extension": ".py",
   "mimetype": "text/x-python",
   "name": "python",
   "nbconvert_exporter": "python",
   "pygments_lexer": "ipython3",
   "version": "3.10.6"
  },
  "orig_nbformat": 4
 },
 "nbformat": 4,
 "nbformat_minor": 2
}
