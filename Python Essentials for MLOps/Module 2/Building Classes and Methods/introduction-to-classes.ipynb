{
 "cells": [
  {
   "attachments": {},
   "cell_type": "markdown",
   "metadata": {},
   "source": [
    "# Introduction to Classes\n",
    "\n",
    "In Python, classes represents one of the most important type of constructs you'll work with alongside functions. In most cases, classes are very similar to functions in how they are created but they do have some difference.\n",
    "\n",
    "In this notebook you'll see how to create classes and a brief overview of their structure."
   ]
  },
  {
   "cell_type": "code",
   "execution_count": 102,
   "metadata": {},
   "outputs": [],
   "source": [
    "# the most basic class\n",
    "\n",
    "class Basic:\n",
    "    pass\n",
    "\n",
    "basic = Basic()"
   ]
  },
  {
   "cell_type": "code",
   "execution_count": 103,
   "metadata": {},
   "outputs": [],
   "source": [
    "class Intro:\n",
    "    pass\n",
    "\n",
    "intro = Intro()"
   ]
  },
  {
   "cell_type": "code",
   "execution_count": 104,
   "metadata": {},
   "outputs": [
    {
     "data": {
      "text/plain": [
       "['__class__',\n",
       " '__delattr__',\n",
       " '__dict__',\n",
       " '__dir__',\n",
       " '__doc__',\n",
       " '__eq__',\n",
       " '__format__',\n",
       " '__ge__',\n",
       " '__getattribute__',\n",
       " '__gt__',\n",
       " '__hash__',\n",
       " '__init__',\n",
       " '__init_subclass__',\n",
       " '__le__',\n",
       " '__lt__',\n",
       " '__module__',\n",
       " '__ne__',\n",
       " '__new__',\n",
       " '__reduce__',\n",
       " '__reduce_ex__',\n",
       " '__repr__',\n",
       " '__setattr__',\n",
       " '__sizeof__',\n",
       " '__str__',\n",
       " '__subclasshook__',\n",
       " '__weakref__']"
      ]
     },
     "execution_count": 104,
     "metadata": {},
     "output_type": "execute_result"
    }
   ],
   "source": [
    "# use dir() to find about what is available in a class\n",
    "dir(basic)"
   ]
  },
  {
   "cell_type": "code",
   "execution_count": 105,
   "metadata": {},
   "outputs": [],
   "source": [
    "# in the past, Python classes could have this odd \"object\" in them\n",
    "\n",
    "class Basic(object):\n",
    "    pass\n",
    "\n",
    "# this is not common or needed in Python anymore"
   ]
  },
  {
   "cell_type": "code",
   "execution_count": 106,
   "metadata": {},
   "outputs": [],
   "source": [
    "class Intro(object):\n",
    "    pass"
   ]
  },
  {
   "cell_type": "code",
   "execution_count": 107,
   "metadata": {},
   "outputs": [],
   "source": [
    "# classes in general are good when grouping code and behavior that can be reused\n",
    "# That type of grouping and behavior is not possible with functions for example\n",
    "\n",
    "class Dog:\n",
    "    is_animal = True\n",
    "# every time you create a method the first argument is 'self'\n",
    "    def bark(self):\n",
    "        print(\"woof!\")\n",
    "\n",
    "dog = Dog()"
   ]
  },
  {
   "cell_type": "code",
   "execution_count": 108,
   "metadata": {},
   "outputs": [],
   "source": [
    "class Cat:\n",
    "    is_animal = True\n",
    "# every time you create a method the first argument is 'self'\n",
    "    def meow(self):\n",
    "        print(\"meow!\")\n",
    "\n",
    "cat = Cat()"
   ]
  },
  {
   "cell_type": "code",
   "execution_count": 109,
   "metadata": {},
   "outputs": [
    {
     "name": "stdout",
     "output_type": "stream",
     "text": [
      "woof!\n"
     ]
    },
    {
     "data": {
      "text/plain": [
       "True"
      ]
     },
     "execution_count": 109,
     "metadata": {},
     "output_type": "execute_result"
    }
   ],
   "source": [
    "# with the Dog() class instantiated and ready to be used you can interact with its parts\n",
    "dog.bark()\n",
    "dog.is_animal"
   ]
  },
  {
   "cell_type": "code",
   "execution_count": 110,
   "metadata": {},
   "outputs": [
    {
     "name": "stdout",
     "output_type": "stream",
     "text": [
      "meow!\n"
     ]
    },
    {
     "data": {
      "text/plain": [
       "True"
      ]
     },
     "execution_count": 110,
     "metadata": {},
     "output_type": "execute_result"
    }
   ],
   "source": [
    "cat.meow()\n",
    "cat.is_animal"
   ]
  },
  {
   "cell_type": "code",
   "execution_count": 111,
   "metadata": {},
   "outputs": [
    {
     "name": "stdout",
     "output_type": "stream",
     "text": [
      "woof!\n"
     ]
    }
   ],
   "source": [
    "# you can create as many instances of this class as you need\n",
    "rufus = Dog()\n",
    "rufus.bark()\n"
   ]
  },
  {
   "cell_type": "code",
   "execution_count": 112,
   "metadata": {},
   "outputs": [
    {
     "name": "stdout",
     "output_type": "stream",
     "text": [
      "meow!\n"
     ]
    }
   ],
   "source": [
    "micah = Cat()\n",
    "micah.meow()"
   ]
  },
  {
   "cell_type": "code",
   "execution_count": 113,
   "metadata": {},
   "outputs": [
    {
     "name": "stdout",
     "output_type": "stream",
     "text": [
      "Is rufus an animal? False\n",
      "Is dog an animal? False\n"
     ]
    }
   ],
   "source": [
    "# watch out for class attributes that can change \"state\" from every instance and objects\n",
    "Dog.is_animal = False\n",
    "print(\"Is rufus an animal?\", rufus.is_animal)\n",
    "print(\"Is dog an animal?\", dog.is_animal)"
   ]
  },
  {
   "cell_type": "code",
   "execution_count": 114,
   "metadata": {},
   "outputs": [
    {
     "name": "stdout",
     "output_type": "stream",
     "text": [
      "Is micah an animal? False\n",
      "Is cat an animal? False\n"
     ]
    }
   ],
   "source": [
    "Cat.is_animal = False\n",
    "print(\"Is micah an animal?\", micah.is_animal)\n",
    "print(\"Is cat an animal?\", cat.is_animal)"
   ]
  },
  {
   "cell_type": "code",
   "execution_count": 115,
   "metadata": {},
   "outputs": [
    {
     "data": {
      "text/plain": [
       "False"
      ]
     },
     "execution_count": 115,
     "metadata": {},
     "output_type": "execute_result"
    }
   ],
   "source": [
    "# that change will also affect any future object\n",
    "sparky = Dog()\n",
    "sparky.is_animal"
   ]
  },
  {
   "cell_type": "code",
   "execution_count": 116,
   "metadata": {},
   "outputs": [
    {
     "data": {
      "text/plain": [
       "False"
      ]
     },
     "execution_count": 116,
     "metadata": {},
     "output_type": "execute_result"
    }
   ],
   "source": [
    "brutus = Cat()\n",
    "brutus.is_animal"
   ]
  },
  {
   "attachments": {},
   "cell_type": "markdown",
   "metadata": {},
   "source": [
    "## What is this `self` thing?\n",
    "\n",
    "In methods and classes, \"self\" is a _convention_ (not mandatory!) so that you can refer to them internally in the class. It is tricky if you've never used it.\n",
    "\n",
    "You will see it as an argument of methods, like in the `Dog` class:\n",
    "\n",
    "```python\n",
    "class Dog:\n",
    "    def bark(self):\n",
    "        ...\n",
    "```\n"
   ]
  },
  {
   "cell_type": "code",
   "execution_count": 117,
   "metadata": {},
   "outputs": [
    {
     "name": "stdout",
     "output_type": "stream",
     "text": [
      "this cat starts to walk\n"
     ]
    }
   ],
   "source": [
    "# you must create methods with `self` always. This is what happens if you don'time\n",
    "\n",
    "class Cat:\n",
    "# added a self argument into the method\n",
    "    def walks(self):\n",
    "        print(\"this cat starts to walk\")\n",
    "\n",
    "cat = Cat()\n",
    "# this will cause an error\n",
    "cat.walks()"
   ]
  },
  {
   "cell_type": "code",
   "execution_count": 118,
   "metadata": {},
   "outputs": [
    {
     "name": "stdout",
     "output_type": "stream",
     "text": [
      "I am a giraffe\n"
     ]
    }
   ],
   "source": [
    "class Giraffe():\n",
    "    def talks(self):\n",
    "        print(\"I am a giraffe\")\n",
    "\n",
    "giraffe = Giraffe()\n",
    "# this will cause an error if talks() does not have a self argument when it is defined\n",
    "giraffe.talks()"
   ]
  }
 ],
 "metadata": {
  "kernelspec": {
   "display_name": "Python 3.8.9 64-bit",
   "language": "python",
   "name": "python3"
  },
  "language_info": {
   "codemirror_mode": {
    "name": "ipython",
    "version": 3
   },
   "file_extension": ".py",
   "mimetype": "text/x-python",
   "name": "python",
   "nbconvert_exporter": "python",
   "pygments_lexer": "ipython3",
   "version": "3.10.6"
  },
  "orig_nbformat": 4,
  "vscode": {
   "interpreter": {
    "hash": "31f2aee4e71d21fbe5cf8b01ff0e069b9275f58929596ceb00d14d90e3e16cd6"
   }
  }
 },
 "nbformat": 4,
 "nbformat_minor": 2
}
