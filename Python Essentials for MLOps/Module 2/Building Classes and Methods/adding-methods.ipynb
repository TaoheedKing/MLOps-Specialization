{
 "cells": [
  {
   "attachments": {},
   "cell_type": "markdown",
   "metadata": {},
   "source": [
    "## Adding methods\n",
    "\n",
    "You've already seen methods. Some are special like `__init__` and some look like functions but always need `self` as the first argument. These notebook shows you other things you can do with methods."
   ]
  },
  {
   "cell_type": "code",
   "execution_count": 54,
   "metadata": {},
   "outputs": [],
   "source": [
    "# class with two methods\n",
    "\n",
    "class Budget:\n",
    "\n",
    "    def __init__(self, budget):\n",
    "        self.budget = budget\n",
    "\n",
    "    def expense(self, amount):\n",
    "        self.budget = self.budget - amount\n",
    "        print(f\"Budget left: {self.budget}\")\n",
    "        \n",
    "budget = Budget(100)\n",
    "\n",
    "        "
   ]
  },
  {
   "cell_type": "code",
   "execution_count": 55,
   "metadata": {},
   "outputs": [],
   "source": [
    "class Distance:\n",
    "\n",
    "    def __init__(self, distance):\n",
    "        self.distance = distance\n",
    "\n",
    "    def travel(self, amount):\n",
    "        self.distance = self.distance - amount\n",
    "        print(f\"Distance left: {self.distance}\")\n",
    "\n",
    "distance = Distance(144)"
   ]
  },
  {
   "cell_type": "code",
   "execution_count": 56,
   "metadata": {},
   "outputs": [
    {
     "name": "stdout",
     "output_type": "stream",
     "text": [
      "Budget left: 77\n",
      "Budget left: 32\n"
     ]
    }
   ],
   "source": [
    "# spend a few and get a report\n",
    "budget.expense(23)\n",
    "budget.expense(45)"
   ]
  },
  {
   "cell_type": "code",
   "execution_count": 57,
   "metadata": {},
   "outputs": [
    {
     "name": "stdout",
     "output_type": "stream",
     "text": [
      "Distance left: 132\n",
      "Distance left: 109\n"
     ]
    }
   ],
   "source": [
    "distance.travel(12)\n",
    "distance.travel(23)"
   ]
  },
  {
   "cell_type": "code",
   "execution_count": 58,
   "metadata": {},
   "outputs": [],
   "source": [
    "# a method can call another method. Let's add another method to do the reporting\n",
    "class Budget:\n",
    "\n",
    "    def __init__(self, budget):\n",
    "        self.budget = budget\n",
    "\n",
    "    def expense(self, amount):\n",
    "        self.budget = self.budget - amount\n",
    "        self.report()\n",
    "        \n",
    "    def report(self):\n",
    "        print(f\"Budget left: {self.budget}\")\n"
   ]
  },
  {
   "cell_type": "code",
   "execution_count": 59,
   "metadata": {},
   "outputs": [],
   "source": [
    "class Distance:\n",
    "\n",
    "    def __init__(self, distance):\n",
    "        self.distance = distance\n",
    "\n",
    "    def travel(self, amount):\n",
    "        self.distance = self.distance - amount\n",
    "        self.report()\n",
    "\n",
    "    def report(self):\n",
    "        print(f\"Distance left: {self.distance}\")"
   ]
  },
  {
   "cell_type": "code",
   "execution_count": 60,
   "metadata": {},
   "outputs": [
    {
     "name": "stdout",
     "output_type": "stream",
     "text": [
      "Budget left: 366\n"
     ]
    }
   ],
   "source": [
    "# code works just like before, but it is more organized!\n",
    "april_budget = Budget(400)\n",
    "april_budget.expense(34)"
   ]
  },
  {
   "cell_type": "code",
   "execution_count": 61,
   "metadata": {},
   "outputs": [
    {
     "name": "stdout",
     "output_type": "stream",
     "text": [
      "Distance left: 52\n"
     ]
    }
   ],
   "source": [
    "home_distance = Distance(64)\n",
    "home_distance.travel(12)"
   ]
  },
  {
   "cell_type": "code",
   "execution_count": 62,
   "metadata": {},
   "outputs": [
    {
     "name": "stdout",
     "output_type": "stream",
     "text": [
      "Current budget variable: 366\n"
     ]
    }
   ],
   "source": [
    "# methods can change the internal state of the instance\n",
    "print(\"Current budget variable:\", april_budget.budget)"
   ]
  },
  {
   "cell_type": "code",
   "execution_count": 63,
   "metadata": {},
   "outputs": [
    {
     "name": "stdout",
     "output_type": "stream",
     "text": [
      "Current distance variable: 52\n"
     ]
    }
   ],
   "source": [
    "# remember that the distance variable is set to the result of the subtraction at the end of the travel method\n",
    "print(\"Current distance variable:\", home_distance.distance) "
   ]
  },
  {
   "cell_type": "code",
   "execution_count": 64,
   "metadata": {},
   "outputs": [],
   "source": [
    "# method can take arguments and keyword arguments as well\n",
    "# a method can call another method. Let's add another method to do the reporting\n",
    "class Budget:\n",
    "\n",
    "    def __init__(self, budget):\n",
    "        self.budget = budget\n",
    "\n",
    "    def expense(self, amount):\n",
    "        self.budget = self.budget - amount\n",
    "        self.report()\n",
    "        \n",
    "    def report(self, currency=\"$\"):\n",
    "        print(f\"Budget left: {currency}{self.budget}\")"
   ]
  },
  {
   "cell_type": "code",
   "execution_count": 65,
   "metadata": {},
   "outputs": [],
   "source": [
    "class Distance:\n",
    "\n",
    "    def __init__(self, distance):\n",
    "        self.distance = distance\n",
    "\n",
    "    def travel(self, amount):\n",
    "        self.distance = self.distance - amount\n",
    "        self.report()\n",
    "\n",
    "    def report(self, unit=\"km\"):\n",
    "        print(f\"Distance left: {self.distance}{unit}\")"
   ]
  },
  {
   "cell_type": "code",
   "execution_count": 66,
   "metadata": {},
   "outputs": [
    {
     "name": "stdout",
     "output_type": "stream",
     "text": [
      "Budget left: $23\n",
      "Budget left: PER $23\n"
     ]
    }
   ],
   "source": [
    "may_budget = Budget(23)\n",
    "may_budget.report()\n",
    "may_budget.report(\"PER $\")"
   ]
  },
  {
   "cell_type": "code",
   "execution_count": 69,
   "metadata": {},
   "outputs": [
    {
     "name": "stdout",
     "output_type": "stream",
     "text": [
      "Distance left: 524km\n",
      "Distance left: 524 miles\n"
     ]
    }
   ],
   "source": [
    "june_commute = Distance(524)\n",
    "june_commute.report()\n",
    "june_commute.report(\" miles\")"
   ]
  }
 ],
 "metadata": {
  "kernelspec": {
   "display_name": "Python 3.8.9 64-bit",
   "language": "python",
   "name": "python3"
  },
  "language_info": {
   "codemirror_mode": {
    "name": "ipython",
    "version": 3
   },
   "file_extension": ".py",
   "mimetype": "text/x-python",
   "name": "python",
   "nbconvert_exporter": "python",
   "pygments_lexer": "ipython3",
   "version": "3.10.6"
  },
  "orig_nbformat": 4,
  "vscode": {
   "interpreter": {
    "hash": "31f2aee4e71d21fbe5cf8b01ff0e069b9275f58929596ceb00d14d90e3e16cd6"
   }
  }
 },
 "nbformat": 4,
 "nbformat_minor": 2
}
