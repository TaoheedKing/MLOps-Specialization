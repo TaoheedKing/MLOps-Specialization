{
 "cells": [
  {
   "attachments": {},
   "cell_type": "markdown",
   "metadata": {},
   "source": [
    "\n",
    "# Using a constructor\n",
    "\n",
    "You already saw how class attributes can be tricky to work with. It is fine to use them, but they have potential to cause problems because they change state. A constructor can help with many of those problems, and allows you to set particulars about the object when creating it."
   ]
  },
  {
   "cell_type": "code",
   "execution_count": 7,
   "metadata": {},
   "outputs": [],
   "source": [
    "# the constructor in Python is with the special method called __init__\n",
    "\n",
    "class Dog:\n",
    "\n",
    "    def __init__(self):\n",
    "        self.is_animal = True"
   ]
  },
  {
   "cell_type": "code",
   "execution_count": 8,
   "metadata": {},
   "outputs": [
    {
     "data": {
      "text/plain": [
       "True"
      ]
     },
     "execution_count": 8,
     "metadata": {},
     "output_type": "execute_result"
    }
   ],
   "source": [
    "dog = Dog()\n",
    "dog.is_animal"
   ]
  },
  {
   "cell_type": "code",
   "execution_count": 9,
   "metadata": {},
   "outputs": [],
   "source": [
    "class Giraffe:\n",
    "\n",
    "    def __init__(self):\n",
    "        self.is_animal = True"
   ]
  },
  {
   "cell_type": "code",
   "execution_count": 15,
   "metadata": {},
   "outputs": [
    {
     "data": {
      "text/plain": [
       "True"
      ]
     },
     "execution_count": 15,
     "metadata": {},
     "output_type": "execute_result"
    }
   ],
   "source": [
    "giraffe = Giraffe()\n",
    "giraffe.is_animal"
   ]
  },
  {
   "attachments": {},
   "cell_type": "markdown",
   "metadata": {},
   "source": [
    "`self` was used again with these! not only `__init__` is a special method but it is using self for its variables. "
   ]
  },
  {
   "cell_type": "code",
   "execution_count": 16,
   "metadata": {},
   "outputs": [
    {
     "name": "stdout",
     "output_type": "stream",
     "text": [
      "Rufus is an animal? True\n",
      "Sparky is an animal? True\n"
     ]
    }
   ],
   "source": [
    "# how is this different from a class attribute? These instance variables are only for the object and you can't affect other objects\n",
    "rufus = Dog()\n",
    "sparky = Dog()\n",
    "\n",
    "print(\"Rufus is an animal?\", rufus.is_animal)\n",
    "print(\"Sparky is an animal?\", sparky.is_animal)"
   ]
  },
  {
   "cell_type": "code",
   "execution_count": 21,
   "metadata": {},
   "outputs": [
    {
     "name": "stdout",
     "output_type": "stream",
     "text": [
      "Mike is an animal? True\n",
      "Will is an animal? True\n"
     ]
    }
   ],
   "source": [
    "mike = Giraffe()\n",
    "will = Giraffe()\n",
    "\n",
    "print(\"Mike is an animal?\", mike.is_animal)\n",
    "print(\"Will is an animal?\", will.is_animal)"
   ]
  },
  {
   "cell_type": "code",
   "execution_count": 22,
   "metadata": {},
   "outputs": [
    {
     "name": "stdout",
     "output_type": "stream",
     "text": [
      "Rufus is an animal? False\n",
      "Sparky is an animal? True\n"
     ]
    }
   ],
   "source": [
    "rufus.is_animal = False\n",
    "print(\"Rufus is an animal?\", rufus.is_animal)\n",
    "print(\"Sparky is an animal?\", sparky.is_animal)"
   ]
  },
  {
   "cell_type": "code",
   "execution_count": 25,
   "metadata": {},
   "outputs": [
    {
     "name": "stdout",
     "output_type": "stream",
     "text": [
      "Mike is an animal? False\n",
      "Will is an animal? True\n"
     ]
    }
   ],
   "source": [
    "mike.is_animal = False\n",
    "print(\"Mike is an animal?\", mike.is_animal)\n",
    "print(\"Will is an animal?\", will.is_animal)"
   ]
  },
  {
   "attachments": {},
   "cell_type": "markdown",
   "metadata": {},
   "source": [
    "## State\n",
    "Once an instance of a class (which creates an object) is created, that object has state. `self` is what allows these variables to refer to each other. But just like functions you can set them from the beginning."
   ]
  },
  {
   "cell_type": "code",
   "execution_count": 34,
   "metadata": {},
   "outputs": [],
   "source": [
    "# pass arguments and keyword arguments to a class\n",
    "\n",
    "class Animal:\n",
    "\n",
    "    def __init__(self, name, legs=4, barks=True):\n",
    "        self.name = name\n",
    "        self.legs = legs\n",
    "        self.barks = barks\n",
    "        \n",
    "    # there is a bug in here!\n",
    "    def info(self):\n",
    "        # the bug is that the variables should have self in front of them\n",
    "        print(f\"This is an animal named {self.name}, has {self.legs} legs\")\n",
    "        if self.barks:\n",
    "            print(\"And this one barks!\")\n",
    "        else:\n",
    "            print(\"It doesn't bark at all\")"
   ]
  },
  {
   "cell_type": "code",
   "execution_count": 35,
   "metadata": {},
   "outputs": [],
   "source": [
    "class Pets:\n",
    "\n",
    "    def __init__(self, name, gender, barks=True, legs=4, tail=True):\n",
    "        self.name = name\n",
    "        self.gender = gender\n",
    "        self.barks = barks\n",
    "        self.legs = legs\n",
    "        self.tail = tail\n",
    "# make sure to add self as an argument for the method\n",
    "    def info(self):\n",
    "        # when calling the variables, make sure to add self in front of them\n",
    "        print(f\"I have a {self.gender} pet named {self.name} and it has {self.legs} legs\")\n",
    "        if self.barks and self.tail:\n",
    "            print(\"It barks and has a tail\")\n",
    "        elif self.barks and not self.tail:\n",
    "            print(\"It barks but has no tail\")\n",
    "        elif not self.barks and self.tail:\n",
    "            print(\"It doesn't bark but has a tail\")\n",
    "        else:\n",
    "            print(\"It neither barks nor has a tail\")"
   ]
  },
  {
   "cell_type": "code",
   "execution_count": 36,
   "metadata": {},
   "outputs": [
    {
     "name": "stdout",
     "output_type": "stream",
     "text": [
      "This is an animal named buster, has 4 legs\n",
      "It doesn't bark at all\n"
     ]
    }
   ],
   "source": [
    "bunny = Animal(\"buster\", barks=False)\n",
    "bunny.info()\n",
    "# if the bug is not fixed in the class, this will cause a NameError"
   ]
  },
  {
   "cell_type": "code",
   "execution_count": 38,
   "metadata": {},
   "outputs": [
    {
     "name": "stdout",
     "output_type": "stream",
     "text": [
      "I have a Male pet named Garfield and it has 4 legs\n",
      "It doesn't bark but has a tail\n"
     ]
    }
   ],
   "source": [
    "cat = Pets(\"Garfield\", \"Male\", False, 4, True)\n",
    "cat.info()"
   ]
  },
  {
   "cell_type": "code",
   "execution_count": 39,
   "metadata": {},
   "outputs": [
    {
     "name": "stdout",
     "output_type": "stream",
     "text": [
      "buster\n",
      "4\n",
      "False\n"
     ]
    }
   ],
   "source": [
    "# it is still possible to try to reach to these variables from outside of the class as well\n",
    "print(bunny.name)\n",
    "print(bunny.legs)\n",
    "print(bunny.barks)"
   ]
  },
  {
   "cell_type": "code",
   "execution_count": 40,
   "metadata": {},
   "outputs": [
    {
     "name": "stdout",
     "output_type": "stream",
     "text": [
      "Garfield\n",
      "Male\n",
      "False\n",
      "4\n",
      "True\n"
     ]
    }
   ],
   "source": [
    "print(cat.name)\n",
    "print(cat.gender)\n",
    "print(cat.barks)\n",
    "print(cat.legs)\n",
    "print(cat.tail)"
   ]
  }
 ],
 "metadata": {
  "kernelspec": {
   "display_name": "Python 3.8.9 64-bit",
   "language": "python",
   "name": "python3"
  },
  "language_info": {
   "codemirror_mode": {
    "name": "ipython",
    "version": 3
   },
   "file_extension": ".py",
   "mimetype": "text/x-python",
   "name": "python",
   "nbconvert_exporter": "python",
   "pygments_lexer": "ipython3",
   "version": "3.10.6"
  },
  "orig_nbformat": 4,
  "vscode": {
   "interpreter": {
    "hash": "31f2aee4e71d21fbe5cf8b01ff0e069b9275f58929596ceb00d14d90e3e16cd6"
   }
  }
 },
 "nbformat": 4,
 "nbformat_minor": 2
}
